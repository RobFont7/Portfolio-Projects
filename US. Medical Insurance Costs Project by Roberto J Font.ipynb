{
 "cells": [
  {
   "cell_type": "markdown",
   "metadata": {},
   "source": [
    "# U.S. Medical Insurance Costs"
   ]
  },
  {
   "cell_type": "markdown",
   "metadata": {},
   "source": [
    "# Looking Over My Dataset"
   ]
  },
  {
   "cell_type": "markdown",
   "metadata": {},
   "source": [
    "There are 7 columns (\"age\" (age of the patient, an int), \"sex\" (gender of the patient, a string like \"male/female\"), \"bmi\" (body mass index of the patient, a float you'd think (I did), but no, its a string with a decimal number inside...), \"children\" (number of children the patient has, it seemed like an int but turned out to be a string with the number), \"smoker\" (whether the patient smokes or not, a string like \"yes/no\"), \"region\" (general region within the US where the patient either resides or originates from, a string like \"northeast, northwest, southeast, southwest\") and \"charges\" (the price of insurance for the patient, a float)) and 1338 data sets divided by patient with no names so the information remains confidential. There appears to be no missing data on any of the patients data (confirmed)."
   ]
  },
  {
   "cell_type": "markdown",
   "metadata": {},
   "source": [
    "# Scoping My Project"
   ]
  },
  {
   "cell_type": "markdown",
   "metadata": {},
   "source": [
    "This is I believe so far the biggest data set I've worked with, I'm curious to see how long some of the running times will be for the code on my PC, shouldn't be a problem at all but I might be surprised."
   ]
  },
  {
   "cell_type": "markdown",
   "metadata": {},
   "source": [
    "First ideas that come to mind are finding some of the differences in charges between __males and females__, finding both __averages__ and getting the __difference__ would be interesting, to make sure this information on the difference is \"valid\" I'd have to __start__ with finding out if the data is __balanced between males and females__ (around the same number of datasets for each) and I'd like to take the chance to check whether this is true for other categories __(parents vs no children, smokers vs non smokers, age groups, regions and maybe even bmis)__. I'd also like to find the relationship between __bmi and age and bmi and sex__, bmi and sex seems the method is obvious since I can probably reuse the method for charges and sex, but bmi and age seems more difficult, I'd probably have to establish groups of ages with __ranges__ and get the difference between those (I'll write here if I come up with a better method but this is probably the best I can do with what I currently know). "
   ]
  },
  {
   "cell_type": "markdown",
   "metadata": {},
   "source": [
    "For now these are the __Goals__ of the project, I'll update as needed if I get the urge to find out something else:\n",
    "\n",
    "1. Find if the data categories are \"balanced\", get the amounts of each and determine a percentage for each.\n",
    "\n",
    "2. Determine the difference in __average charges__ for males and females.\n",
    "\n",
    "3. Search for a possible correlation between __bmi and age/sex__.\n",
    "\n",
    "Whether or not the data is balanced I'll be able to make some assumptions, but the reality is that taking __Actions__ about the information I can gleam is hardly likely, other than trying to bring light to these \"realities'' I can only do my small part to try to make things better if they are \"bad\" or try to keep them going if they are \"good\". (Mental note to remember that it's important to think on this concept of how actionable or valuable the project's information can be, most of the time it is not worth it to do the work of doing a project if nothing can be done about the things we find out.\n",
    "\n",
    "The __Data__ might be \"fictional\" or very outdated, in this case I don't even know the source, complementing it would make no sense, but it would be interesting to find out whether current and reliable information on this can be easily and freely accessed to make an analysis on data that might really \"count\".\n",
    "\n",
    "The __Analysis__ of the data will begin as purely __Descriptive or Detective (since we don't know the \"age\" of the dataset)__, but the focus of the goals would be to incentivise a __Behavior Change__ in the case that the descriptive analysis brings to light some clear biases when it comes to __charges__ between genders.\n",
    "\n",
    "On the __Ethical Considerations__ we have no concerns about the privacy of the people whose data will be used (they are likely fictional and either way not identifiable), I personally have no agenda regarding this information being a foreign male with no inclinations towards anything but equality and equity so I'm not concerned about transparency on this either, and I accept accountability regarding anything this project might inform on (considering its most likely entirely meaningless).\n"
   ]
  },
  {
   "cell_type": "markdown",
   "metadata": {},
   "source": [
    "# Importing My Dataset"
   ]
  },
  {
   "cell_type": "code",
   "execution_count": 1,
   "metadata": {},
   "outputs": [],
   "source": [
    "#Importing the csv module\n",
    "\n",
    "import csv"
   ]
  },
  {
   "cell_type": "code",
   "execution_count": 2,
   "metadata": {},
   "outputs": [],
   "source": [
    "#Opening the csv file and saving it in a variable\n",
    "\n",
    "with open(\"insurance.csv\") as project_data:\n",
    "    #print(list(csv.DictReader(project_data)))\n",
    "    entire_dataset = csv.DictReader(project_data)"
   ]
  },
  {
   "cell_type": "markdown",
   "metadata": {},
   "source": [
    "# Saving My Dataset Via Python Variables"
   ]
  },
  {
   "cell_type": "code",
   "execution_count": 3,
   "metadata": {},
   "outputs": [],
   "source": [
    "#Variables\n",
    "    \n",
    "age = []\n",
    "sex = []\n",
    "bmi = []\n",
    "children = []\n",
    "smoker = []\n",
    "region = []\n",
    "charges = []\n",
    "    \n",
    "#Storing them\n",
    "with open(\"insurance.csv\") as project_data:\n",
    "    entire_dataset = csv.DictReader(project_data)\n",
    "    for dataset in entire_dataset:\n",
    "        age.append(dataset[\"age\"])\n",
    "#     print(len(age))\n",
    "#     print(age)\n",
    "        sex.append(dataset[\"sex\"])\n",
    "        bmi.append(dataset[\"bmi\"])\n",
    "        children.append(dataset[\"children\"])\n",
    "        smoker.append(dataset[\"smoker\"])\n",
    "        region.append(dataset[\"region\"])\n",
    "        charges.append(dataset[\"charges\"])"
   ]
  },
  {
   "cell_type": "markdown",
   "metadata": {},
   "source": [
    "I ran into a lengthy problem with the Jupyter notebook, the error: \n",
    "\n",
    "\"IOPub data rate exceeded.\n",
    "The notebook server will temporarily stop. sending output to the client in order to avoid crashing it.\n",
    "To change this limit, set the config variable\n",
    "NotebookApp.iopub_data_rate_limit\n",
    "Current values:\n",
    ".\n",
    "NotebookAppiopub_data_rate_limit=1000000.0 (bytes/sec)\n",
    "NotebookApp. rate_limit_window=3.0 (secs)\"\n",
    "\n",
    "Popped up when I tried to run code that would print big amounts of data, I managed to open a High IOPub data rate environment by using the command on CMD: \n",
    "\n",
    "\"jupyter notebook --NotebookApp.iopub_data_rate_limit=10000000\"\n",
    "\n",
    "But it would only work within the directory of the Jupyter Notebook, which means it would only open an instance of Jupyter Notebook with access to what was within its install directory, I managed to test out what I needed from there, but it still isn't a real solution to the issue, I've spent a couple of hours at it so I will move on for now but I should later find a definitive solution."
   ]
  },
  {
   "cell_type": "markdown",
   "metadata": {},
   "source": [
    "# Building out analysis functions"
   ]
  },
  {
   "cell_type": "markdown",
   "metadata": {},
   "source": [
    "# Finding the balance in data catagories"
   ]
  },
  {
   "cell_type": "code",
   "execution_count": 4,
   "metadata": {},
   "outputs": [
    {
     "name": "stdout",
     "output_type": "stream",
     "text": [
      "Males: 676 and Females: 662\n",
      "50.52% of the sample are males and 49.48% of the sample are females.\n"
     ]
    }
   ],
   "source": [
    "#Finding out the balance of Males and Females    \n",
    "\n",
    "males = 0\n",
    "females = 0\n",
    "\n",
    "for gender in sex:\n",
    "    if gender == \"male\":\n",
    "        males += 1\n",
    "    if gender == \"female\":\n",
    "        females += 1\n",
    "        \n",
    "print(\"Males: \" + str(males), \"and Females: \" + str(females))\n",
    "percentage_males = (males * 100) / (males + females)\n",
    "percentage_females = 100 - percentage_males\n",
    "\n",
    "print(str(round(percentage_males, 2)) + \"% of the sample are males and \" + str(round(percentage_females, 2)) + \"% of the sample are females.\")"
   ]
  },
  {
   "cell_type": "markdown",
   "metadata": {},
   "source": [
    "This seems very balanced, better than I expected."
   ]
  },
  {
   "cell_type": "code",
   "execution_count": 5,
   "metadata": {},
   "outputs": [
    {
     "name": "stdout",
     "output_type": "stream",
     "text": [
      "Smokers: 274 and Non-Smokers: 1064\n",
      "20.48% of the sample are smokers and 79.52% of the sample are non-smokers.\n"
     ]
    }
   ],
   "source": [
    "#Finding the balance of Smokers and Non-Smokers\n",
    "\n",
    "smokers = 0\n",
    "non_smokers = 0\n",
    "\n",
    "for choice in smoker:\n",
    "    if choice == \"yes\":\n",
    "        smokers += 1\n",
    "    if choice == \"no\":\n",
    "        non_smokers += 1\n",
    "        \n",
    "print(\"Smokers: \" + str(smokers), \"and Non-Smokers: \" + str(non_smokers))\n",
    "percentage_non_smokers = (non_smokers * 100) / (non_smokers + smokers)\n",
    "percentage_smokers = 100 - percentage_non_smokers\n",
    "\n",
    "print(str(round(percentage_smokers, 2)) + \"% of the sample are smokers and \" + str(round(percentage_non_smokers, 2)) + \"% of the sample are non-smokers.\")"
   ]
  },
  {
   "cell_type": "markdown",
   "metadata": {},
   "source": [
    "Here happily (I guess I am biased! Go figure...) we can see that the percentage of smokers is much lower than non-smokers, I'll have to think about how this might impact any conclusions I might reach when it comes to these two sides. \\#smokingkills"
   ]
  },
  {
   "cell_type": "code",
   "execution_count": 6,
   "metadata": {},
   "outputs": [
    {
     "name": "stdout",
     "output_type": "stream",
     "text": [
      "Northeasterners: 324 , Northwesterners: 325 , Southeasterners: 364 and Southwesterners: 325\n",
      "24.22% of the sample are northeasterners, 24.29% of the sample are northwesterners, 27.2% of the sample are southeasterners and 24.29% of the sample are southwesterners.\n"
     ]
    }
   ],
   "source": [
    "#Finding out the balance between regions\n",
    "\n",
    "northeast = 0\n",
    "northwest = 0\n",
    "southeast = 0\n",
    "southwest = 0\n",
    "\n",
    "for place in region:\n",
    "    if place == \"northeast\":\n",
    "        northeast += 1\n",
    "    if place == \"northwest\":\n",
    "        northwest += 1\n",
    "    if place == \"southeast\":\n",
    "        southeast += 1\n",
    "    if place == \"southwest\":\n",
    "        southwest += 1\n",
    "        \n",
    "print(\"Northeasterners: \" + str(northeast), \", Northwesterners: \" + str(northwest), \", Southeasterners: \" + str(southeast), \"and Southwesterners: \" + str(southwest))\n",
    "percentage_southeast = (southeast * 100) / (northeast + northwest + southeast + southwest)\n",
    "percentage_northeast = (northeast * 100) / (northeast + northwest + southeast + southwest)\n",
    "percentage_northwest = (northwest * 100) / (northeast + northwest + southeast + southwest)\n",
    "percentage_southwest = (southwest * 100) / (northeast + northwest + southeast + southwest)\n",
    "\n",
    "print(str(round(percentage_northeast, 2)) + \"% of the sample are northeasterners, \" + str(round(percentage_northwest, 2)) + \"% of the sample are northwesterners, \" + str(round(percentage_southeast, 2)) + \"% of the sample are southeasterners and \" + str(round(percentage_southwest, 2)) + \"% of the sample are southwesterners.\")"
   ]
  },
  {
   "cell_type": "markdown",
   "metadata": {},
   "source": [
    "There is a slight majority of southwesterners in the sample but it is still quite balanced, again much more than I expected."
   ]
  },
  {
   "cell_type": "code",
   "execution_count": 7,
   "metadata": {},
   "outputs": [
    {
     "name": "stdout",
     "output_type": "stream",
     "text": [
      "Parents: 764 and Non-Parents: 574\n",
      "57.1% of the sample are parents and 42.9% of the sample are non_parents.\n"
     ]
    }
   ],
   "source": [
    "#Finding the balance of parents and non-parents\n",
    "    \n",
    "parents = 0\n",
    "non_parents = 0\n",
    "\n",
    "for kid in children:\n",
    "    if kid != \"0\":\n",
    "        parents += 1\n",
    "    if kid == \"0\":\n",
    "        non_parents += 1\n",
    "        \n",
    "print(\"Parents: \" + str(parents) + \" and Non-Parents: \" + str(non_parents))\n",
    "percentage_parents = (parents * 100) / (parents + non_parents)\n",
    "percentage_non_parents = 100 - percentage_parents\n",
    "\n",
    "print(str(round(percentage_parents, 2)) + \"% of the sample are parents and \" + str(round(percentage_non_parents, 2)) + \"% of the sample are non_parents.\")"
   ]
  },
  {
   "cell_type": "markdown",
   "metadata": {},
   "source": [
    "This is a bit unbalanced and honestly it's, surprisingly for me, more on the side of the parents. I believe this might point towards a heavier part of the sample being older rather than younger."
   ]
  },
  {
   "cell_type": "code",
   "execution_count": 8,
   "metadata": {},
   "outputs": [
    {
     "name": "stdout",
     "output_type": "stream",
     "text": [
      "The different ages in the dataset are: ['18', '19', '20', '21', '22', '23', '24', '25', '26', '27', '28', '29', '30', '31', '32', '33', '34', '35', '36', '37', '38', '39', '40', '41', '42', '43', '44', '45', '46', '47', '48', '49', '50', '51', '52', '53', '54', '55', '56', '57', '58', '59', '60', '61', '62', '63', '64']\n",
      "Total amount of different ages is: 47\n"
     ]
    }
   ],
   "source": [
    "#Finding the balance between age groups\n",
    "\n",
    "different_ages = []\n",
    "\n",
    "for number in age:\n",
    "    if number not in different_ages:\n",
    "        different_ages.append(number)\n",
    "print(\"The different ages in the dataset are: \" + str(sorted(different_ages)))\n",
    "print(\"Total amount of different ages is: \" + str(len(different_ages)))"
   ]
  },
  {
   "cell_type": "markdown",
   "metadata": {},
   "source": [
    "There are 47 different ages in the dataset, beginning at 18 and ending with 64, trying to find the amount for each seems tedious, but I'll give it a try, if it doesn't work out I'll try to divide them in groups."
   ]
  },
  {
   "cell_type": "code",
   "execution_count": 9,
   "metadata": {},
   "outputs": [
    {
     "name": "stdout",
     "output_type": "stream",
     "text": [
      "18:69 19:68 20:29 21:28 22:28 23:28 24:28 25:28 26:28 27:28 28:28 29:27 30:27 31:27 32:26 33:26 34:26 35:25 36:25 37:25 38:25 39:25 40:27 41:27 42:27 43:27 44:27 45:29 46:29 47:29 48:29 49:28 50:29 51:29 52:29 53:28 54:28 55:26 56:26 57:26 58:25 59:25 60:23 61:23 62:23 63:23 64:22\n"
     ]
    }
   ],
   "source": [
    "a18 = 0\n",
    "a19 = 0\n",
    "a20 = 0\n",
    "a21 = 0\n",
    "a22 = 0\n",
    "a23 = 0\n",
    "a24 = 0\n",
    "a25 = 0\n",
    "a26 = 0\n",
    "a27 = 0\n",
    "a28 = 0\n",
    "a29 = 0\n",
    "a30 = 0\n",
    "a31 = 0\n",
    "a32 = 0\n",
    "a33 = 0\n",
    "a34 = 0\n",
    "a35 = 0\n",
    "a36 = 0\n",
    "a37 = 0\n",
    "a38 = 0\n",
    "a39 = 0\n",
    "a40 = 0\n",
    "a41 = 0\n",
    "a42 = 0\n",
    "a43 = 0\n",
    "a44 = 0\n",
    "a45 = 0\n",
    "a46 = 0\n",
    "a47 = 0\n",
    "a48 = 0\n",
    "a49 = 0\n",
    "a50 = 0\n",
    "a51 = 0\n",
    "a52 = 0\n",
    "a53 = 0\n",
    "a54 = 0\n",
    "a55 = 0\n",
    "a56 = 0\n",
    "a57 = 0\n",
    "a58 = 0\n",
    "a59 = 0\n",
    "a60 = 0\n",
    "a61 = 0\n",
    "a62 = 0\n",
    "a63 = 0\n",
    "a64 = 0\n",
    "\n",
    "for number in age:\n",
    "    if number == \"18\":\n",
    "        a18 += 1\n",
    "    if number == \"19\":\n",
    "        a19 += 1\n",
    "    if number == \"20\":\n",
    "        a20 += 1\n",
    "    if number == \"21\":\n",
    "        a21 += 1\n",
    "    if number == \"22\":\n",
    "        a22 += 1\n",
    "    if number == \"23\":\n",
    "        a23 += 1\n",
    "    if number == \"24\":\n",
    "        a24 += 1\n",
    "    if number == \"25\":\n",
    "        a25 += 1\n",
    "    if number == \"26\":\n",
    "        a26 += 1\n",
    "    if number == \"27\":\n",
    "        a27 += 1\n",
    "    if number == \"28\":\n",
    "        a28 += 1\n",
    "    if number == \"29\":\n",
    "        a29 += 1\n",
    "    if number == \"30\":\n",
    "        a30 += 1\n",
    "    if number == \"31\":\n",
    "        a31 += 1\n",
    "    if number == \"32\":\n",
    "        a32 += 1\n",
    "    if number == \"33\":\n",
    "        a33 += 1\n",
    "    if number == \"34\":\n",
    "        a34 += 1\n",
    "    if number == \"35\":\n",
    "        a35 += 1\n",
    "    if number == \"36\":\n",
    "        a36 += 1\n",
    "    if number == \"37\":\n",
    "        a37 += 1\n",
    "    if number == \"38\":\n",
    "        a38 += 1\n",
    "    if number == \"39\":\n",
    "        a39 += 1\n",
    "    if number == \"40\":\n",
    "        a40 += 1\n",
    "    if number == \"41\":\n",
    "        a41 += 1\n",
    "    if number == \"42\":\n",
    "        a42 += 1\n",
    "    if number == \"43\":\n",
    "        a43 += 1\n",
    "    if number == \"44\":\n",
    "        a44 += 1\n",
    "    if number == \"45\":\n",
    "        a45 += 1\n",
    "    if number == \"46\":\n",
    "        a46 += 1\n",
    "    if number == \"47\":\n",
    "        a47 += 1\n",
    "    if number == \"48\":\n",
    "        a48 += 1\n",
    "    if number == \"49\":\n",
    "        a49 += 1\n",
    "    if number == \"50\":\n",
    "        a50 += 1\n",
    "    if number == \"51\":\n",
    "        a51 += 1\n",
    "    if number == \"52\":\n",
    "        a52 += 1\n",
    "    if number == \"53\":\n",
    "        a53 += 1\n",
    "    if number == \"54\":\n",
    "        a54 += 1\n",
    "    if number == \"55\":\n",
    "        a55 += 1\n",
    "    if number == \"56\":\n",
    "        a56 += 1\n",
    "    if number == \"57\":\n",
    "        a57 += 1\n",
    "    if number == \"58\":\n",
    "        a58 += 1\n",
    "    if number == \"59\":\n",
    "        a59 += 1\n",
    "    if number == \"60\":\n",
    "        a60 += 1\n",
    "    if number == \"61\":\n",
    "        a61 += 1\n",
    "    if number == \"62\":\n",
    "        a62 += 1\n",
    "    if number == \"63\":\n",
    "        a63 += 1\n",
    "    if number == \"64\":\n",
    "        a64 += 1\n",
    "print(\"18:\" + str(a18), \"19:\" + str(a19), \"20:\" + str(a20), \"21:\" + str(a21), \"22:\" + str(a22), \"23:\" + str(a23), \"24:\" + str(a24), \"25:\" + str(a25), \"26:\" + str(a26), \"27:\" + str(a27), \"28:\" + str(a28), \"29:\" + str(a29), \"30:\" + str(a30), \"31:\" + str(a31), \"32:\" + str(a32), \"33:\" + str(a33), \"34:\" + str(a34), \"35:\" + str(a35), \"36:\" + str(a36), \"37:\" + str(a37), \"38:\" + str(a38), \"39:\" + str(a39), \"40:\" + str(a40), \"41:\" + str(a41), \"42:\" + str(a42), \"43:\" + str(a43), \"44:\" + str(a44), \"45:\" + str(a45), \"46:\" + str(a46), \"47:\" + str(a47), \"48:\" + str(a48), \"49:\" + str(a49), \"50:\" + str(a50), \"51:\" + str(a51), \"52:\" + str(a52), \"53:\" + str(a53), \"54:\" + str(a54), \"55:\" + str(a55), \"56:\" + str(a56), \"57:\" + str(a57), \"58:\" + str(a58), \"59:\" + str(a59), \"60:\" + str(a60), \"61:\" + str(a61), \"62:\" + str(a62), \"63:\" + str(a63), \"64:\" + str(a64))"
   ]
  },
  {
   "cell_type": "markdown",
   "metadata": {},
   "source": [
    "Well that was __EXTREMELY__ tedious and I regret doing it so stubbornly manually, I'm sure in the future I'll be laughing at myself for ever doing this in this manner (lets hope). There is a big imbalance in the first two ages (18 and 19) with more than twice that of the other groups, but the rest are all quite balanced. Nevertheless checking the balances between age groups is probably not worth it since it will obviously also be imbalanced because of the heavy data set on the youngest ages."
   ]
  },
  {
   "cell_type": "code",
   "execution_count": 10,
   "metadata": {},
   "outputs": [
    {
     "name": "stdout",
     "output_type": "stream",
     "text": [
      "Total amount of different bmi values: 548\n"
     ]
    }
   ],
   "source": [
    "#Finding the balance between bmis\n",
    "different_bmis = []\n",
    "\n",
    "for number in bmi:\n",
    "    if number not in different_bmis:\n",
    "        different_bmis.append(number)\n",
    "#print(different_bmis)\n",
    "print(\"Total amount of different bmi values: \" + str(len(different_bmis)))"
   ]
  },
  {
   "cell_type": "markdown",
   "metadata": {},
   "source": [
    "So it turns out bmis are ALSO saved as strings, with such a wide array of numbers I won't be looking for anything related to individual values. I'll try something out though."
   ]
  },
  {
   "cell_type": "code",
   "execution_count": 11,
   "metadata": {},
   "outputs": [
    {
     "name": "stdout",
     "output_type": "stream",
     "text": [
      "Total adults on the low range bmi (14 to 26): 280\n",
      "Total adults on the mid-low range bmi (26 to 35): 718\n",
      "Total adults on the mid-high range bmi (35 to 45): 316\n",
      "Total adults on the high range bmi (45 to 55): 24\n"
     ]
    }
   ],
   "source": [
    "low_range_bmi = range(14, 26)\n",
    "mid_low_range_bmi = range(26, 35)\n",
    "mid_high_range_bmi = range(35, 45)\n",
    "high_range_bmi = range(45, 55)\n",
    "\n",
    "low = 0\n",
    "mid_low = 0\n",
    "mid_high = 0\n",
    "high = 0\n",
    "\n",
    "for number in bmi:\n",
    "    number = int(round(float(number), 0))\n",
    "# print(bmi)\n",
    "# print(len(bmi))\n",
    "    if number in low_range_bmi:\n",
    "        low += 1\n",
    "    if number in mid_low_range_bmi:\n",
    "        mid_low += 1\n",
    "    if number in mid_high_range_bmi:\n",
    "        mid_high += 1\n",
    "    if number in high_range_bmi:\n",
    "        high += 1\n",
    "\n",
    "print(\"Total adults on the low range bmi (14 to 26): \" + str(low))\n",
    "print(\"Total adults on the mid-low range bmi (26 to 35): \" + str(mid_low))\n",
    "print(\"Total adults on the mid-high range bmi (35 to 45): \" + str(mid_high))\n",
    "print(\"Total adults on the high range bmi (45 to 55): \" + str(high))\n",
    "#print(low + mid_low + mid_high + high)"
   ]
  },
  {
   "cell_type": "markdown",
   "metadata": {},
   "source": [
    "So, with the current tools I have learnt it is not simple to make a range with decimals and thus getting the ranges of bmis is not easy for me right now. Another issue I'm seeing right now is that rounding the bmi values I don't understand why but I'm not getting the total number of bmis I should be getting."
   ]
  },
  {
   "cell_type": "markdown",
   "metadata": {},
   "source": [
    "Got it! I forgot ranges don't include the higher limit, so I was leaving out the values in between the ranges."
   ]
  },
  {
   "cell_type": "markdown",
   "metadata": {},
   "source": [
    "We observe a complete imbalance in the bmi distribution on the dataset, with most on the mid_low_range, which you might think is for the best, but a quick google search points at the ideal range for both male and female adults being between 18.5 and 24.9, with the 25.0 to 29.9 range classified as overweight and 30.0 and above as obesity =(."
   ]
  },
  {
   "cell_type": "markdown",
   "metadata": {},
   "source": [
    "# Determining the differences in average charges for males and females"
   ]
  },
  {
   "cell_type": "code",
   "execution_count": 12,
   "metadata": {},
   "outputs": [
    {
     "name": "stdout",
     "output_type": "stream",
     "text": [
      "Average charges for males are: 13957.0\n"
     ]
    }
   ],
   "source": [
    "#Average pricing for males\n",
    "\n",
    "with open(\"insurance.csv\") as project_data:\n",
    "    entire_dataset = csv.DictReader(project_data)\n",
    "    males_prices = []\n",
    "    total_males_prices = 0\n",
    "    \n",
    "    for dataset in entire_dataset:\n",
    "        if dataset[\"sex\"] == \"male\":\n",
    "            males_prices.append(dataset[\"charges\"])\n",
    "            total_males_prices += int(round(float(dataset[\"charges\"]), 0))\n",
    "    average_male_prices = total_males_prices / len(males_prices)\n",
    "\n",
    "    #print(males_prices)\n",
    "    #print(len(males_prices))\n",
    "    print(\"Average charges for males are: \" + str(round(average_male_prices, 0)))"
   ]
  },
  {
   "cell_type": "code",
   "execution_count": 13,
   "metadata": {},
   "outputs": [
    {
     "name": "stdout",
     "output_type": "stream",
     "text": [
      "Average charges for females are: 12570.0\n"
     ]
    }
   ],
   "source": [
    "#Average pricing for females\n",
    "\n",
    "with open(\"insurance.csv\") as project_data:\n",
    "    entire_dataset = csv.DictReader(project_data)\n",
    "    females_prices = []\n",
    "    total_females_prices = 0\n",
    "    \n",
    "    for dataset in entire_dataset:\n",
    "        if dataset[\"sex\"] == \"female\":\n",
    "            females_prices.append(dataset[\"charges\"])\n",
    "            total_females_prices += int(round(float(dataset[\"charges\"]), 0))\n",
    "    average_female_prices = total_females_prices / len(females_prices)\n",
    "    \n",
    "    #print(females_prices)\n",
    "    #print(len(females_prices))\n",
    "    print(\"Average charges for females are: \" + str(round(average_female_prices, 0)))"
   ]
  },
  {
   "cell_type": "code",
   "execution_count": 14,
   "metadata": {},
   "outputs": [
    {
     "name": "stdout",
     "output_type": "stream",
     "text": [
      "The difference in average charges for males and females is: 1387.0\n"
     ]
    }
   ],
   "source": [
    "difference_in_avg_charges = average_male_prices - average_female_prices\n",
    "\n",
    "print(\"The difference in average charges for males and females is: \" + str(round(difference_in_avg_charges,0)))"
   ]
  },
  {
   "cell_type": "markdown",
   "metadata": {},
   "source": [
    "Finally we get to an actual piece of investigative results, unlike everything before it, which was mostly organizing and getting familiar with the dataset, this is real information obtained from __using__ the dataset. And once again I am surprised by the results, I was pretty convinced women would, in average, pay more for insurance than men, no reason in particular other than the world tends to be unfair like that, but as it turns out it's the other way around and since the difference in the average is over a thousand dollars I have to say I'm still mad about it, but! It did make me come up with a good question though, could this difference be based on a __difference in the amount of smokers between both populations?__ I'll be using this as a project extension after achieving the other goals I set for this project."
   ]
  },
  {
   "cell_type": "markdown",
   "metadata": {},
   "source": [
    "# Searching for a possible correlation between bmi/age and bmi/sex"
   ]
  },
  {
   "cell_type": "code",
   "execution_count": 15,
   "metadata": {},
   "outputs": [
    {
     "name": "stdout",
     "output_type": "stream",
     "text": [
      "Average bmi for males is: 31.0\n"
     ]
    }
   ],
   "source": [
    "#Average bmi for males\n",
    "\n",
    "with open(\"insurance.csv\") as project_data:\n",
    "    entire_dataset = csv.DictReader(project_data)\n",
    "    males_bmis = []\n",
    "    total_males_bmis = 0\n",
    "    \n",
    "    for dataset in entire_dataset:\n",
    "        if dataset[\"sex\"] == \"male\":\n",
    "            males_bmis.append(dataset[\"bmi\"])\n",
    "            total_males_bmis += int(round(float(dataset[\"bmi\"]), 0))\n",
    "    average_male_bmis = total_males_bmis / len(males_bmis)\n",
    "\n",
    "    #print(males_bmis)\n",
    "    #print(len(males_bmis))\n",
    "    print(\"Average bmi for males is: \" + str(round(average_male_bmis, 0)))"
   ]
  },
  {
   "cell_type": "code",
   "execution_count": 16,
   "metadata": {},
   "outputs": [
    {
     "name": "stdout",
     "output_type": "stream",
     "text": [
      "Average bmi for females is: 30.0\n"
     ]
    }
   ],
   "source": [
    "#Average bmi for females\n",
    "\n",
    "with open(\"insurance.csv\") as project_data:\n",
    "    entire_dataset = csv.DictReader(project_data)\n",
    "    females_bmis = []\n",
    "    total_females_bmis = 0\n",
    "    \n",
    "    for dataset in entire_dataset:\n",
    "        if dataset[\"sex\"] == \"female\":\n",
    "            females_bmis.append(dataset[\"bmi\"])\n",
    "            total_females_bmis += int(round(float(dataset[\"bmi\"]), 0))\n",
    "    average_female_bmis = total_females_bmis / len(females_bmis)\n",
    "\n",
    "    #print(females_bmis)\n",
    "    #print(len(females_bmis))\n",
    "    print(\"Average bmi for females is: \" + str(round(average_female_bmis, 0)))"
   ]
  },
  {
   "cell_type": "markdown",
   "metadata": {},
   "source": [
    "With the difference being a single point (if even, since these values are rounded so it might be less than an entire point), this seems pretty balanced, and since bmi is probably a factor for increased charges this probably lines up with the difference we have previously found."
   ]
  },
  {
   "cell_type": "markdown",
   "metadata": {},
   "source": [
    "I've decided to divide the ages in \"decades\", even if some will have a smaller sample, this seems like the more logical thing to try for now."
   ]
  },
  {
   "cell_type": "code",
   "execution_count": 17,
   "metadata": {},
   "outputs": [
    {
     "name": "stdout",
     "output_type": "stream",
     "text": [
      "The average bmi in teens is: 30.0\n",
      "The average bmi in twenties is: 30.0\n",
      "The average bmi in thirties is: 30.0\n",
      "The average bmi in forties is: 31.0\n",
      "The average bmi in fifties is: 32.0\n",
      "The average bmi in sixties is: 32.0\n"
     ]
    }
   ],
   "source": [
    "#Finding the different bmi averages per age groups\n",
    "\n",
    "teens_bmis = []\n",
    "twenties_bmis = []\n",
    "thirties_bmis = []\n",
    "forties_bmis = []\n",
    "fifties_bmis = []\n",
    "sixties_bmis = []\n",
    "teens_avg_bmis = 0\n",
    "teens_total_bmis = 0\n",
    "twenties_avg_bmis = 0\n",
    "twenties_total_bmis = 0\n",
    "thirties_avg_bmis = 0\n",
    "thirties_total_bmis = 0\n",
    "forties_avg_bmis = 0\n",
    "forties_total_bmis = 0\n",
    "fifties_avg_bmis = 0\n",
    "fifties_total_bmis = 0\n",
    "sixties_avg_bmis = 0\n",
    "sixties_total_bmis = 0\n",
    "\n",
    "with open(\"insurance.csv\") as project_data:\n",
    "    entire_dataset = csv.DictReader(project_data)\n",
    "    for dataset in entire_dataset:\n",
    "        dataset[\"age\"] = int(dataset[\"age\"])\n",
    "        if dataset[\"age\"] <= 19:\n",
    "            teens_bmis.append(dataset[\"bmi\"])\n",
    "        if dataset[\"age\"] <= 29 and dataset[\"age\"] >= 20:\n",
    "            twenties_bmis.append(dataset[\"bmi\"])\n",
    "        if dataset[\"age\"] <= 39 and dataset[\"age\"] >= 30:\n",
    "            thirties_bmis.append(dataset[\"bmi\"])\n",
    "        if dataset[\"age\"] <= 49 and dataset[\"age\"] >= 40:\n",
    "            forties_bmis.append(dataset[\"bmi\"])\n",
    "        if dataset[\"age\"] <= 59 and dataset[\"age\"] >= 50:\n",
    "            fifties_bmis.append(dataset[\"bmi\"])\n",
    "        if dataset[\"age\"] <= 69 and dataset[\"age\"] >= 60:\n",
    "            sixties_bmis.append(dataset[\"bmi\"])\n",
    "    for teen in teens_bmis:\n",
    "        teens_total_bmis += float(teen)\n",
    "        teens_avg_bmis = teens_total_bmis / len(teens_bmis)\n",
    "    for twenties in twenties_bmis:\n",
    "        twenties_total_bmis += float(twenties)\n",
    "        twenties_avg_bmis = twenties_total_bmis / len(twenties_bmis)\n",
    "    for thirties in thirties_bmis:\n",
    "        thirties_total_bmis += float(thirties)\n",
    "        thirties_avg_bmis = thirties_total_bmis / len(thirties_bmis)\n",
    "    for forties in forties_bmis:\n",
    "        forties_total_bmis += float(forties)\n",
    "        forties_avg_bmis = forties_total_bmis / len(forties_bmis)\n",
    "    for fifties in fifties_bmis:\n",
    "        fifties_total_bmis += float(fifties)\n",
    "        fifties_avg_bmis = fifties_total_bmis / len(fifties_bmis)\n",
    "    for sixties in sixties_bmis:\n",
    "        sixties_total_bmis += float(sixties)\n",
    "        sixties_avg_bmis = sixties_total_bmis / len(sixties_bmis)\n",
    "        \n",
    "    print(\"The average bmi in teens is: \" + str(round(teens_avg_bmis,0)))\n",
    "    print(\"The average bmi in twenties is: \" + str(round(twenties_avg_bmis,0)))\n",
    "    print(\"The average bmi in thirties is: \" + str(round(thirties_avg_bmis,0)))\n",
    "    print(\"The average bmi in forties is: \" + str(round(forties_avg_bmis,0)))\n",
    "    print(\"The average bmi in fifties is: \" + str(round(fifties_avg_bmis,0)))\n",
    "    print(\"The average bmi in sixties is: \" + str(round(sixties_avg_bmis,0)))"
   ]
  },
  {
   "cell_type": "markdown",
   "metadata": {},
   "source": [
    "Well that's satisfying, again I'm sure I'll laugh at myself further ahead with my method here (it was quite some manual work) but the result even if not a strong gradient, it is satisfying to find an apparent relationship like this. We see that between the 18 and 30 year olds the average bmis a quite constant, and from the forties on we see a slight tendency to increase bmi by at around one point per decade. Nice."
   ]
  },
  {
   "cell_type": "markdown",
   "metadata": {},
   "source": [
    "With this we conclude all the original objectives set out from the beginning, let's move on to the project extensions."
   ]
  },
  {
   "cell_type": "markdown",
   "metadata": {},
   "source": [
    "# Project Extention: Are males more commonly smokers than females?"
   ]
  },
  {
   "cell_type": "code",
   "execution_count": 18,
   "metadata": {},
   "outputs": [
    {
     "name": "stdout",
     "output_type": "stream",
     "text": [
      "23.52% of males are smokers.\n",
      "17.37% of females are smokers.\n",
      "The difference in the percentage of smokers between males and females is: 6.15%.\n"
     ]
    }
   ],
   "source": [
    "#Percentage of smokers per sex\n",
    "\n",
    "male_smokers = 0\n",
    "male_non_smokers = 0\n",
    "female_smokers = 0\n",
    "female_non_smokers = 0\n",
    "\n",
    "with open(\"insurance.csv\") as project_data:\n",
    "    entire_dataset = csv.DictReader(project_data)\n",
    "    for dataset in entire_dataset:\n",
    "        if dataset[\"sex\"] == \"male\" and dataset[\"smoker\"] == \"yes\":\n",
    "            male_smokers += 1\n",
    "        if dataset[\"sex\"] == \"male\" and dataset[\"smoker\"] == \"no\":\n",
    "            male_non_smokers += 1\n",
    "        if dataset[\"sex\"] == \"female\" and dataset[\"smoker\"] == \"yes\":\n",
    "            female_smokers += 1\n",
    "        if dataset[\"sex\"] == \"female\" and dataset[\"smoker\"] == \"no\":\n",
    "            female_non_smokers += 1\n",
    "    percentage_male_smokers = (male_smokers * 100) / (male_smokers + male_non_smokers)\n",
    "    percentage_female_smokers = (female_smokers * 100) / (female_smokers + female_non_smokers)\n",
    "    \n",
    "    print(str(round(percentage_male_smokers,2)) + \"% of males are smokers.\")\n",
    "    print(str(round(percentage_female_smokers,2)) + \"% of females are smokers.\")\n",
    "    print(\"The difference in the percentage of smokers between males and females is: \" + str(round((percentage_male_smokers - percentage_female_smokers), 2)) + \"%.\")"
   ]
  },
  {
   "cell_type": "markdown",
   "metadata": {},
   "source": [
    "This, although a bit disappointing and sadly expected (come on guys! =() is a satisfying result, it goes a long way into explaining the gap in the average charges for both males and females. Insurance for smokers is more expensive, since more males than females in average are smokers, it makes sense that the average charges in insurance are higher for males than for females. If I wanted to dedicate more time to this project I'd do the work of finding the __average charges for both males and females non-smokers and smokers and check the difference between those__. But enough is enough I must move on to bigger and better things."
   ]
  },
  {
   "cell_type": "markdown",
   "metadata": {},
   "source": [
    "After spending so much time on this I feel like the project deserves a \"conclusion\" of sorts. Working with this large dataset was very interesting, I was glad to see my computer had no issue running any of the code (though the environment's software did leave me with a sour taste in my mouth after those couple hours wasted looking for solutions). Perhaps my best takeaway from this project is this: If a dataset about \"insurance information\" can manage to make me interested and excited to get answers to the questions that can arise from it, I guess I might have finally chosen the right career path."
   ]
  }
 ],
 "metadata": {
  "kernelspec": {
   "display_name": "Python 3 (ipykernel)",
   "language": "python",
   "name": "python3"
  },
  "language_info": {
   "codemirror_mode": {
    "name": "ipython",
    "version": 3
   },
   "file_extension": ".py",
   "mimetype": "text/x-python",
   "name": "python",
   "nbconvert_exporter": "python",
   "pygments_lexer": "ipython3",
   "version": "3.11.5"
  }
 },
 "nbformat": 4,
 "nbformat_minor": 4
}
